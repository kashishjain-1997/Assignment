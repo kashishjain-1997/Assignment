{
 "cells": [
  {
   "cell_type": "code",
   "execution_count": 1,
   "id": "3ddccdac",
   "metadata": {},
   "outputs": [],
   "source": [
    "import xml.etree.ElementTree as et\n",
    "import pandas as pd\n",
    "\n",
    "\n"
   ]
  },
  {
   "cell_type": "code",
   "execution_count": 2,
   "id": "b2495e3e",
   "metadata": {
    "scrolled": true
   },
   "outputs": [],
   "source": [
    "def transform_xml(xml_doc):\n",
    "    attr = xml_doc.attrib\n",
    "    for xml in xml_doc.iter('AddOrder'):\n",
    "        dict = attr.copy()\n",
    "        dict.update(xml.attrib)\n",
    "        yield dict\n",
    "etree = et.parse('orders.xml')\n",
    "eroot = etree.getroot()\n",
    "\n",
    "order = transform_xml(eroot)\n",
    "df1 = pd.DataFrame(list(order))"
   ]
  },
  {
   "cell_type": "code",
   "execution_count": 3,
   "id": "3db8641d",
   "metadata": {},
   "outputs": [],
   "source": [
    "def transform_xmld(xml_doc):\n",
    "    attr = xml_doc.attrib\n",
    "    for xml in xml_doc.iter('DeleteOrder'):\n",
    "        dict = attr.copy()\n",
    "        dict.update(xml.attrib)\n",
    "        yield dict\n",
    "etree = et.parse('orders.xml')\n",
    "eroot = etree.getroot()\n",
    "\n",
    "delorder = transform_xmld(eroot)\n",
    "df2 = pd.DataFrame(list(delorder))"
   ]
  },
  {
   "cell_type": "code",
   "execution_count": 4,
   "id": "e682aa35",
   "metadata": {},
   "outputs": [
    {
     "data": {
      "text/html": [
       "<div>\n",
       "<style scoped>\n",
       "    .dataframe tbody tr th:only-of-type {\n",
       "        vertical-align: middle;\n",
       "    }\n",
       "\n",
       "    .dataframe tbody tr th {\n",
       "        vertical-align: top;\n",
       "    }\n",
       "\n",
       "    .dataframe thead th {\n",
       "        text-align: right;\n",
       "    }\n",
       "</style>\n",
       "<table border=\"1\" class=\"dataframe\">\n",
       "  <thead>\n",
       "    <tr style=\"text-align: right;\">\n",
       "      <th></th>\n",
       "      <th>book</th>\n",
       "      <th>operation</th>\n",
       "      <th>price</th>\n",
       "      <th>volume</th>\n",
       "      <th>orderId</th>\n",
       "    </tr>\n",
       "  </thead>\n",
       "  <tbody>\n",
       "    <tr>\n",
       "      <th>3</th>\n",
       "      <td>book-3</td>\n",
       "      <td>SELL</td>\n",
       "      <td>100.00</td>\n",
       "      <td>80</td>\n",
       "      <td>4</td>\n",
       "    </tr>\n",
       "    <tr>\n",
       "      <th>6</th>\n",
       "      <td>book-3</td>\n",
       "      <td>SELL</td>\n",
       "      <td>100.00</td>\n",
       "      <td>82</td>\n",
       "      <td>7</td>\n",
       "    </tr>\n",
       "    <tr>\n",
       "      <th>7</th>\n",
       "      <td>book-2</td>\n",
       "      <td>SELL</td>\n",
       "      <td>100.20</td>\n",
       "      <td>42</td>\n",
       "      <td>8</td>\n",
       "    </tr>\n",
       "    <tr>\n",
       "      <th>9</th>\n",
       "      <td>book-1</td>\n",
       "      <td>BUY</td>\n",
       "      <td>99.80</td>\n",
       "      <td>64</td>\n",
       "      <td>10</td>\n",
       "    </tr>\n",
       "    <tr>\n",
       "      <th>11</th>\n",
       "      <td>book-3</td>\n",
       "      <td>SELL</td>\n",
       "      <td>100.00</td>\n",
       "      <td>48</td>\n",
       "      <td>12</td>\n",
       "    </tr>\n",
       "    <tr>\n",
       "      <th>...</th>\n",
       "      <td>...</td>\n",
       "      <td>...</td>\n",
       "      <td>...</td>\n",
       "      <td>...</td>\n",
       "      <td>...</td>\n",
       "    </tr>\n",
       "    <tr>\n",
       "      <th>3170309</th>\n",
       "      <td>book-2</td>\n",
       "      <td>BUY</td>\n",
       "      <td>99.40</td>\n",
       "      <td>52</td>\n",
       "      <td>3170310</td>\n",
       "    </tr>\n",
       "    <tr>\n",
       "      <th>3170310</th>\n",
       "      <td>book-1</td>\n",
       "      <td>BUY</td>\n",
       "      <td>99.80</td>\n",
       "      <td>50</td>\n",
       "      <td>3170311</td>\n",
       "    </tr>\n",
       "    <tr>\n",
       "      <th>3170311</th>\n",
       "      <td>book-2</td>\n",
       "      <td>SELL</td>\n",
       "      <td>100.90</td>\n",
       "      <td>70</td>\n",
       "      <td>3170312</td>\n",
       "    </tr>\n",
       "    <tr>\n",
       "      <th>3170313</th>\n",
       "      <td>book-2</td>\n",
       "      <td>SELL</td>\n",
       "      <td>100.70</td>\n",
       "      <td>89</td>\n",
       "      <td>3170314</td>\n",
       "    </tr>\n",
       "    <tr>\n",
       "      <th>3170314</th>\n",
       "      <td>book-1</td>\n",
       "      <td>BUY</td>\n",
       "      <td>99.60</td>\n",
       "      <td>69</td>\n",
       "      <td>3170315</td>\n",
       "    </tr>\n",
       "  </tbody>\n",
       "</table>\n",
       "<p>1340630 rows × 5 columns</p>\n",
       "</div>"
      ],
      "text/plain": [
       "           book operation   price volume  orderId\n",
       "3        book-3      SELL  100.00     80        4\n",
       "6        book-3      SELL  100.00     82        7\n",
       "7        book-2      SELL  100.20     42        8\n",
       "9        book-1       BUY   99.80     64       10\n",
       "11       book-3      SELL  100.00     48       12\n",
       "...         ...       ...     ...    ...      ...\n",
       "3170309  book-2       BUY   99.40     52  3170310\n",
       "3170310  book-1       BUY   99.80     50  3170311\n",
       "3170311  book-2      SELL  100.90     70  3170312\n",
       "3170313  book-2      SELL  100.70     89  3170314\n",
       "3170314  book-1       BUY   99.60     69  3170315\n",
       "\n",
       "[1340630 rows x 5 columns]"
      ]
     },
     "execution_count": 4,
     "metadata": {},
     "output_type": "execute_result"
    }
   ],
   "source": [
    "cond = df1['orderId'].isin(df2['orderId'])\n",
    "df1.drop(df1[cond].index,inplace=True)\n",
    "df1"
   ]
  },
  {
   "cell_type": "code",
   "execution_count": 5,
   "id": "81221838",
   "metadata": {},
   "outputs": [],
   "source": [
    "books = set(df1['book'])"
   ]
  },
  {
   "cell_type": "code",
   "execution_count": null,
   "id": "59ea5a5c",
   "metadata": {},
   "outputs": [
    {
     "name": "stdout",
     "output_type": "stream",
     "text": [
      "book:  book-3\n"
     ]
    }
   ],
   "source": [
    "for book in books:\n",
    "    \n",
    "    print('book: ',book)\n",
    "    buy_list = []\n",
    "    sell_list = []\n",
    "    for index,row in df1.iterrows():\n",
    "        if(row['book']==book and row['operation']=='BUY'):\n",
    "            buy_list.append(str(row['volume'])+'@'+str(row['price']))\n",
    "        else:\n",
    "            sell_list.append(str(row['volume'])+'@'+str(row['price']))\n",
    "    print('Buy','---','Sell')\n",
    "    print('================================================')\n",
    "    for (i1,i2) in zip(buy_list,sell_list):\n",
    "        print(i1,'--',i2)\n",
    "        "
   ]
  },
  {
   "cell_type": "code",
   "execution_count": null,
   "id": "e1bf7157",
   "metadata": {},
   "outputs": [],
   "source": []
  }
 ],
 "metadata": {
  "kernelspec": {
   "display_name": "Python 3 (ipykernel)",
   "language": "python",
   "name": "python3"
  },
  "language_info": {
   "codemirror_mode": {
    "name": "ipython",
    "version": 3
   },
   "file_extension": ".py",
   "mimetype": "text/x-python",
   "name": "python",
   "nbconvert_exporter": "python",
   "pygments_lexer": "ipython3",
   "version": "3.9.12"
  }
 },
 "nbformat": 4,
 "nbformat_minor": 5
}
